{
 "cells": [
  {
   "cell_type": "code",
   "execution_count": null,
   "id": "f1599167",
   "metadata": {},
   "outputs": [],
   "source": []
  },
  {
   "cell_type": "code",
   "execution_count": 1,
   "id": "1d41b45d",
   "metadata": {},
   "outputs": [],
   "source": [
    "import polars as pl"
   ]
  },
  {
   "cell_type": "code",
   "execution_count": null,
   "id": "ad18fc69",
   "metadata": {},
   "outputs": [],
   "source": [
    "df_train = pl.read_csv(\"train_segments.csv\")\n",
    "df_val = pl.read_csv(\"val_segments.csv\")\n",
    "df_test = pl.read_csv(\"test_segments.csv\")\n",
    "df_merged = pl.concat([df_train, df_val, df_test])"
   ]
  },
  {
   "cell_type": "code",
   "execution_count": 9,
   "id": "b4b7a87b",
   "metadata": {},
   "outputs": [
    {
     "data": {
      "text/html": [
       "<div><style>\n",
       ".dataframe > thead > tr,\n",
       ".dataframe > tbody > tr {\n",
       "  text-align: right;\n",
       "  white-space: pre-wrap;\n",
       "}\n",
       "</style>\n",
       "<small>shape: (2, 8)</small><table border=\"1\" class=\"dataframe\"><thead><tr><th>segment_id</th><th>source_file</th><th>file_type</th><th>tokens</th><th>labels</th><th>num_tokens</th><th>num_transitions</th><th>original_text</th></tr><tr><td>str</td><td>str</td><td>str</td><td>str</td><td>str</td><td>i64</td><td>i64</td><td>str</td></tr></thead><tbody><tr><td>&quot;S00271I_SKYES_BU_GSUM_GYIS_NYA…</td><td>&quot;S00271I_SKYES_BU_GSUM_GYIS_NYA…</td><td>&quot;txt&quot;</td><td>&quot;de lta bu&#x27;i rim pa &#x27;dis chu ts…</td><td>&quot;1,1,1,1,1,1,1,1,1,1,1,1,1,1,1,…</td><td>301</td><td>1</td><td>&quot;de lta bu&#x27;i rim pa &#x27;dis chu ts…</td></tr><tr><td>&quot;S00271I_SKYES_BU_GSUM_GYIS_NYA…</td><td>&quot;S00271I_SKYES_BU_GSUM_GYIS_NYA…</td><td>&quot;txt&quot;</td><td>&quot;gzhung &#x27;ga&#x27; zhig las bden gnyi…</td><td>&quot;0,0,0,0,0,0,0,0,0,0,0,0,0,0,0,…</td><td>367</td><td>2</td><td>&quot;gzhung &#x27;ga&#x27; zhig las bden gnyi…</td></tr></tbody></table></div>"
      ],
      "text/plain": [
       "shape: (2, 8)\n",
       "┌────────────┬────────────┬───────────┬────────────┬───────────┬───────────┬───────────┬───────────┐\n",
       "│ segment_id ┆ source_fil ┆ file_type ┆ tokens     ┆ labels    ┆ num_token ┆ num_trans ┆ original_ │\n",
       "│ ---        ┆ e          ┆ ---       ┆ ---        ┆ ---       ┆ s         ┆ itions    ┆ text      │\n",
       "│ str        ┆ ---        ┆ str       ┆ str        ┆ str       ┆ ---       ┆ ---       ┆ ---       │\n",
       "│            ┆ str        ┆           ┆            ┆           ┆ i64       ┆ i64       ┆ str       │\n",
       "╞════════════╪════════════╪═══════════╪════════════╪═══════════╪═══════════╪═══════════╪═══════════╡\n",
       "│ S00271I_SK ┆ S00271I_SK ┆ txt       ┆ de lta     ┆ 1,1,1,1,1 ┆ 301       ┆ 1         ┆ de lta    │\n",
       "│ YES_BU_GSU ┆ YES_BU_GSU ┆           ┆ bu'i rim   ┆ ,1,1,1,1, ┆           ┆           ┆ bu'i rim  │\n",
       "│ M_GYIS_NYA ┆ M_GYIS_NYA ┆           ┆ pa 'dis    ┆ 1,1,1,1,1 ┆           ┆           ┆ pa 'dis   │\n",
       "│ …          ┆ …          ┆           ┆ chu ts…    ┆ ,1,…      ┆           ┆           ┆ chu ts…   │\n",
       "│ S00271I_SK ┆ S00271I_SK ┆ txt       ┆ gzhung     ┆ 0,0,0,0,0 ┆ 367       ┆ 2         ┆ gzhung    │\n",
       "│ YES_BU_GSU ┆ YES_BU_GSU ┆           ┆ 'ga' zhig  ┆ ,0,0,0,0, ┆           ┆           ┆ 'ga' zhig │\n",
       "│ M_GYIS_NYA ┆ M_GYIS_NYA ┆           ┆ las bden   ┆ 0,0,0,0,0 ┆           ┆           ┆ las bden  │\n",
       "│ …          ┆ …          ┆           ┆ gnyi…      ┆ ,0,…      ┆           ┆           ┆ gnyi…     │\n",
       "└────────────┴────────────┴───────────┴────────────┴───────────┴───────────┴───────────┴───────────┘"
      ]
     },
     "execution_count": 9,
     "metadata": {},
     "output_type": "execute_result"
    }
   ],
   "source": [
    "df_merged.head(2)"
   ]
  },
  {
   "cell_type": "code",
   "execution_count": 25,
   "id": "22dc2ba9",
   "metadata": {},
   "outputs": [],
   "source": [
    "def parse_labels(str_list):\n",
    "    \"\"\"Convert list of comma-separated strings into list of integer lists.\"\"\"\n",
    "    return [int(x) for s in str_list for x in s.split(',') if x.strip().isdigit()]\n",
    "\n",
    "\n",
    "def count_auto_allo_chunks(labels):\n",
    "    \"\"\"\n",
    "    Counts contiguous chunks of 0s (ALLO) and 1s (AUTO),\n",
    "    ignoring other labels like 2 or 3.\n",
    "    Returns per-chunk lengths (+1 per your rule).\n",
    "    \"\"\"\n",
    "    allo_chunks = []\n",
    "    auto_chunks = []\n",
    "\n",
    "    if not labels:\n",
    "        return allo_chunks, auto_chunks\n",
    "\n",
    "    current_value = None\n",
    "    current_length = 0\n",
    "\n",
    "    for label in labels:\n",
    "        if label not in [0, 1]:  # ignore 2 and 3 as separators\n",
    "            if current_value == 0:\n",
    "                allo_chunks.append(current_length + 1)\n",
    "            elif current_value == 1:\n",
    "                auto_chunks.append(current_length + 1)\n",
    "            current_value = None\n",
    "            current_length = 0\n",
    "            continue\n",
    "\n",
    "        if label == current_value:\n",
    "            current_length += 1\n",
    "        else:\n",
    "            # close previous chunk\n",
    "            if current_value == 0:\n",
    "                allo_chunks.append(current_length + 1)\n",
    "            elif current_value == 1:\n",
    "                auto_chunks.append(current_length + 1)\n",
    "            # start new\n",
    "            current_value = label\n",
    "            current_length = 0\n",
    "\n",
    "    # close last\n",
    "    if current_value == 0:\n",
    "        allo_chunks.append(current_length + 1)\n",
    "    elif current_value == 1:\n",
    "        auto_chunks.append(current_length + 1)\n",
    "\n",
    "    return allo_chunks, auto_chunks"
   ]
  },
  {
   "cell_type": "code",
   "execution_count": 36,
   "id": "67250e58",
   "metadata": {},
   "outputs": [],
   "source": [
    "allo_sizes, auto_sizes = [], []\n",
    "for labels in df_merged[\"labels\"]:\n",
    "    parsed = parse_labels([labels])\n",
    "    allo, auto = count_auto_allo_chunks(parsed)\n",
    "    allo_sizes.extend(allo)\n",
    "    auto_sizes.extend(auto)"
   ]
  },
  {
   "cell_type": "code",
   "execution_count": 38,
   "id": "9c75b1d5",
   "metadata": {},
   "outputs": [
    {
     "name": "stdout",
     "output_type": "stream",
     "text": [
      "Minimum ALLO chunk size: 2\n",
      "Minimum AUTO chunk size: 4\n",
      "Maximum ALLO chunk size: 438\n",
      "Maximum AUTO chunk size: 335\n"
     ]
    }
   ],
   "source": [
    "print(\"Minimum ALLO chunk size:\", min(allo_sizes) if allo_sizes else \"N/A\")\n",
    "print(\"Minimum AUTO chunk size:\", min(auto_sizes) if auto_sizes else \"N/A\")\n",
    "print(\"Maximum ALLO chunk size:\", max(allo_sizes) if allo_sizes else \"N/A\")\n",
    "print(\"Maximum AUTO chunk size:\", max(auto_sizes) if auto_sizes else \"N/A\")"
   ]
  },
  {
   "cell_type": "code",
   "execution_count": 4,
   "id": "06cebc2f",
   "metadata": {},
   "outputs": [
    {
     "name": "stdout",
     "output_type": "stream",
     "text": [
      "(304, 8)\n",
      "(60, 8)\n",
      "(83, 8)\n",
      "(447, 8)\n"
     ]
    }
   ],
   "source": [
    "print(df_train.shape)\n",
    "print(df_val.shape)\n",
    "print(df_test.shape)\n",
    "print(df_merged.shape)"
   ]
  }
 ],
 "metadata": {
  "kernelspec": {
   "display_name": "adapters",
   "language": "python",
   "name": "python3"
  },
  "language_info": {
   "codemirror_mode": {
    "name": "ipython",
    "version": 3
   },
   "file_extension": ".py",
   "mimetype": "text/x-python",
   "name": "python",
   "nbconvert_exporter": "python",
   "pygments_lexer": "ipython3",
   "version": "3.12.8"
  }
 },
 "nbformat": 4,
 "nbformat_minor": 5
}
