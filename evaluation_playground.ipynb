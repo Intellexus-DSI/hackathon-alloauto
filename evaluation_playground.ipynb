{
 "cells": [
  {
   "cell_type": "code",
   "execution_count": null,
   "id": "2f367e76",
   "metadata": {},
   "outputs": [],
   "source": []
  },
  {
   "cell_type": "code",
   "execution_count": 5,
   "id": "8e805a21",
   "metadata": {},
   "outputs": [],
   "source": [
    "true_labels = [0,0,0,0,0,1,1,1,1,1,1,0,0,0,0,0,0,1,1,1,1,1,1,0,0,0,0,0,0,0,0,1,1,1,1,1,0,0,0,1,1,1]\n",
    "pred_labels = [0,0,0,1,1,1,1,1,1,1,1,1,1,0,0,0,0,0,0,0,0,0,0,0,0,0,0,0,0,0,0,1,1,1,1,1,0,0,0,1,1,1]"
   ]
  },
  {
   "cell_type": "code",
   "execution_count": 3,
   "id": "9a230b2f",
   "metadata": {},
   "outputs": [],
   "source": [
    "def find_change_points(arr):\n",
    "    change_points = []\n",
    "    for i in range(1, len(arr)):\n",
    "        if arr[i] != arr[i - 1]:\n",
    "            change_points.append(i)\n",
    "    return change_points"
   ]
  },
  {
   "cell_type": "code",
   "execution_count": 6,
   "id": "8376326f",
   "metadata": {},
   "outputs": [
    {
     "data": {
      "text/plain": [
       "[5, 11, 17, 23, 31, 36, 39]"
      ]
     },
     "execution_count": 6,
     "metadata": {},
     "output_type": "execute_result"
    }
   ],
   "source": [
    "find_change_points(true_labels)"
   ]
  },
  {
   "cell_type": "code",
   "execution_count": 7,
   "id": "a08ede21",
   "metadata": {},
   "outputs": [
    {
     "data": {
      "text/plain": [
       "[3, 13, 31, 36, 39]"
      ]
     },
     "execution_count": 7,
     "metadata": {},
     "output_type": "execute_result"
    }
   ],
   "source": [
    "find_change_points(pred_labels)"
   ]
  },
  {
   "cell_type": "code",
   "execution_count": null,
   "id": "28252ef4",
   "metadata": {},
   "outputs": [],
   "source": [
    "def calc_tp_fp_fn(true_labels, pred_labels, tolerance=2):\n",
    "    true_change_points = find_change_points(true_labels)\n",
    "    pred_change_points = find_change_points(pred_labels)\n",
    "\n",
    "    tp = 0\n",
    "    fp = 0\n",
    "    matched = set()\n",
    "\n",
    "    for p in pred_change_points:\n",
    "        match_found = False\n",
    "        for t in true_change_points:\n",
    "            if abs(p - t) <= tolerance and t not in matched:\n",
    "                tp += 1\n",
    "                matched.add(t)\n",
    "                match_found = True\n",
    "                break\n",
    "        if not match_found:\n",
    "            fp += 1\n",
    "\n",
    "    fn = len(true_change_points) - len(matched)\n",
    "\n",
    "    return tp, fp, fn"
   ]
  },
  {
   "cell_type": "code",
   "execution_count": null,
   "id": "5435c468",
   "metadata": {},
   "outputs": [
    {
     "data": {
      "text/plain": [
       "(5, 0, 2)"
      ]
     },
     "execution_count": 9,
     "metadata": {},
     "output_type": "execute_result"
    }
   ],
   "source": [
    "calc_tp_fp_fn(true_labels, pred_labels, tolerance=2)"
   ]
  }
 ],
 "metadata": {
  "kernelspec": {
   "display_name": "guyb_env2",
   "language": "python",
   "name": "python3"
  },
  "language_info": {
   "codemirror_mode": {
    "name": "ipython",
    "version": 3
   },
   "file_extension": ".py",
   "mimetype": "text/x-python",
   "name": "python",
   "nbconvert_exporter": "python",
   "pygments_lexer": "ipython3",
   "version": "3.11.8"
  }
 },
 "nbformat": 4,
 "nbformat_minor": 5
}
