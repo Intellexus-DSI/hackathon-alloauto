{
 "cells": [
  {
   "cell_type": "code",
   "execution_count": 12,
   "id": "f897b252",
   "metadata": {},
   "outputs": [],
   "source": [
    "import polars as pl"
   ]
  },
  {
   "cell_type": "code",
   "execution_count": 13,
   "id": "42efa68e",
   "metadata": {},
   "outputs": [],
   "source": [
    "# Load D2672_analysis_segments to a df using polars\n",
    "df = pl.read_csv(\"D2672_analysis_segments.csv\")"
   ]
  },
  {
   "cell_type": "code",
   "execution_count": 14,
   "id": "aeb09597",
   "metadata": {},
   "outputs": [
    {
     "data": {
      "text/html": [
       "<div><style>\n",
       ".dataframe > thead > tr,\n",
       ".dataframe > tbody > tr {\n",
       "  text-align: right;\n",
       "  white-space: pre-wrap;\n",
       "}\n",
       "</style>\n",
       "<small>shape: (100, 4)</small><table border=\"1\" class=\"dataframe\"><thead><tr><th>Segment_ID</th><th>Mode</th><th>Text</th><th>Word_Count</th></tr><tr><td>i64</td><td>str</td><td>str</td><td>i64</td></tr></thead><tbody><tr><td>0</td><td>&quot;auto&quot;</td><td>&quot;@ / / &#x27;phags pa dpung bzangs k…</td><td>23</td></tr><tr><td>1</td><td>&quot;allo&quot;</td><td>&quot;/ chos dbyings mnyam pa nyid l…</td><td>43</td></tr><tr><td>2</td><td>&quot;auto&quot;</td><td>&quot;/ / de ltar bsdus pa&#x27;i don dan…</td><td>72</td></tr><tr><td>3</td><td>&quot;allo&quot;</td><td>&quot;/ / nyi ma stong gi gzi&quot;</td><td>7</td></tr><tr><td>4</td><td>&quot;auto&quot;</td><td>&quot;zhes bya ba ni sku dang thugs …</td><td>13</td></tr><tr><td>&hellip;</td><td>&hellip;</td><td>&hellip;</td><td>&hellip;</td></tr><tr><td>95</td><td>&quot;allo&quot;</td><td>&quot;yis&quot;</td><td>1</td></tr><tr><td>96</td><td>&quot;auto&quot;</td><td>&quot;zhes bya ba ni thugs rje lhag …</td><td>14</td></tr><tr><td>97</td><td>&quot;allo&quot;</td><td>&quot;zhes&quot;</td><td>1</td></tr><tr><td>98</td><td>&quot;auto&quot;</td><td>&quot;bya ba&#x27;i&quot;</td><td>2</td></tr><tr><td>99</td><td>&quot;allo&quot;</td><td>&quot;don to / / bde gshegs sras nan…</td><td>37</td></tr></tbody></table></div>"
      ],
      "text/plain": [
       "shape: (100, 4)\n",
       "┌────────────┬──────┬─────────────────────────────────┬────────────┐\n",
       "│ Segment_ID ┆ Mode ┆ Text                            ┆ Word_Count │\n",
       "│ ---        ┆ ---  ┆ ---                             ┆ ---        │\n",
       "│ i64        ┆ str  ┆ str                             ┆ i64        │\n",
       "╞════════════╪══════╪═════════════════════════════════╪════════════╡\n",
       "│ 0          ┆ auto ┆ @ / / 'phags pa dpung bzangs k… ┆ 23         │\n",
       "│ 1          ┆ allo ┆ / chos dbyings mnyam pa nyid l… ┆ 43         │\n",
       "│ 2          ┆ auto ┆ / / de ltar bsdus pa'i don dan… ┆ 72         │\n",
       "│ 3          ┆ allo ┆ / / nyi ma stong gi gzi         ┆ 7          │\n",
       "│ 4          ┆ auto ┆ zhes bya ba ni sku dang thugs … ┆ 13         │\n",
       "│ …          ┆ …    ┆ …                               ┆ …          │\n",
       "│ 95         ┆ allo ┆ yis                             ┆ 1          │\n",
       "│ 96         ┆ auto ┆ zhes bya ba ni thugs rje lhag … ┆ 14         │\n",
       "│ 97         ┆ allo ┆ zhes                            ┆ 1          │\n",
       "│ 98         ┆ auto ┆ bya ba'i                        ┆ 2          │\n",
       "│ 99         ┆ allo ┆ don to / / bde gshegs sras nan… ┆ 37         │\n",
       "└────────────┴──────┴─────────────────────────────────┴────────────┘"
      ]
     },
     "execution_count": 14,
     "metadata": {},
     "output_type": "execute_result"
    }
   ],
   "source": [
    "df.head(100)"
   ]
  },
  {
   "cell_type": "code",
   "execution_count": 15,
   "id": "b97d0d71",
   "metadata": {},
   "outputs": [],
   "source": [
    "import polars as pl\n",
    "\n",
    "# Mask rows with Word_Count=1 as null, then forward fill\n",
    "df = df.with_columns(\n",
    "    pl.when((pl.col(\"Word_Count\") > 5))\n",
    "    .then(pl.col(\"Mode\"))\n",
    "    .otherwise(None)\n",
    "    .forward_fill()\n",
    "    .alias(\"Mode\")\n",
    ")"
   ]
  },
  {
   "cell_type": "code",
   "execution_count": 24,
   "id": "1beaddcb",
   "metadata": {},
   "outputs": [
    {
     "data": {
      "text/html": [
       "<div><style>\n",
       ".dataframe > thead > tr,\n",
       ".dataframe > tbody > tr {\n",
       "  text-align: right;\n",
       "  white-space: pre-wrap;\n",
       "}\n",
       "</style>\n",
       "<small>shape: (10, 4)</small><table border=\"1\" class=\"dataframe\"><thead><tr><th>Segment_ID</th><th>Mode</th><th>Text</th><th>Word_Count</th></tr><tr><td>i64</td><td>str</td><td>str</td><td>i64</td></tr></thead><tbody><tr><td>5</td><td>&quot;auto&quot;</td><td>&quot;/ /&quot;</td><td>2</td></tr><tr><td>6</td><td>&quot;auto&quot;</td><td>&quot;thugs&quot;</td><td>1</td></tr><tr><td>7</td><td>&quot;auto&quot;</td><td>&quot;rje&quot;</td><td>1</td></tr><tr><td>8</td><td>&quot;auto&quot;</td><td>&quot;zhes bya ba ni sems can thams …</td><td>15</td></tr><tr><td>9</td><td>&quot;allo&quot;</td><td>&quot;/ / rtse gcig yid gyur&quot;</td><td>6</td></tr><tr><td>10</td><td>&quot;auto&quot;</td><td>&quot;zhes bya ba ni de bzhin nyid l…</td><td>12</td></tr><tr><td>11</td><td>&quot;auto&quot;</td><td>&quot;/ / bzhugs pa la&quot;</td><td>5</td></tr><tr><td>12</td><td>&quot;auto&quot;</td><td>&quot;zhes bya ba ni tshangs pa&#x27;i gn…</td><td>21</td></tr><tr><td>13</td><td>&quot;allo&quot;</td><td>&quot;dpung bzangs tshul bzhin gus p…</td><td>11</td></tr><tr><td>14</td><td>&quot;auto&quot;</td><td>&quot;zhes bya ba ni shin tu dang ba…</td><td>24</td></tr></tbody></table></div>"
      ],
      "text/plain": [
       "shape: (10, 4)\n",
       "┌────────────┬──────┬─────────────────────────────────┬────────────┐\n",
       "│ Segment_ID ┆ Mode ┆ Text                            ┆ Word_Count │\n",
       "│ ---        ┆ ---  ┆ ---                             ┆ ---        │\n",
       "│ i64        ┆ str  ┆ str                             ┆ i64        │\n",
       "╞════════════╪══════╪═════════════════════════════════╪════════════╡\n",
       "│ 5          ┆ auto ┆ / /                             ┆ 2          │\n",
       "│ 6          ┆ auto ┆ thugs                           ┆ 1          │\n",
       "│ 7          ┆ auto ┆ rje                             ┆ 1          │\n",
       "│ 8          ┆ auto ┆ zhes bya ba ni sems can thams … ┆ 15         │\n",
       "│ 9          ┆ allo ┆ / / rtse gcig yid gyur          ┆ 6          │\n",
       "│ 10         ┆ auto ┆ zhes bya ba ni de bzhin nyid l… ┆ 12         │\n",
       "│ 11         ┆ auto ┆ / / bzhugs pa la                ┆ 5          │\n",
       "│ 12         ┆ auto ┆ zhes bya ba ni tshangs pa'i gn… ┆ 21         │\n",
       "│ 13         ┆ allo ┆ dpung bzangs tshul bzhin gus p… ┆ 11         │\n",
       "│ 14         ┆ auto ┆ zhes bya ba ni shin tu dang ba… ┆ 24         │\n",
       "└────────────┴──────┴─────────────────────────────────┴────────────┘"
      ]
     },
     "execution_count": 24,
     "metadata": {},
     "output_type": "execute_result"
    }
   ],
   "source": [
    "df.slice(5,10)"
   ]
  },
  {
   "cell_type": "code",
   "execution_count": 25,
   "id": "62dada1a",
   "metadata": {},
   "outputs": [
    {
     "data": {
      "text/plain": [
       "(3475, 4)"
      ]
     },
     "execution_count": 25,
     "metadata": {},
     "output_type": "execute_result"
    }
   ],
   "source": [
    "df.shape"
   ]
  },
  {
   "cell_type": "code",
   "execution_count": 26,
   "id": "313595c4",
   "metadata": {},
   "outputs": [],
   "source": [
    "# Merge consecutive rows with the same Mode\n",
    "df_merged = (\n",
    "    df\n",
    "    .with_columns(\n",
    "        # Create group ID that changes when Mode changes\n",
    "        group=(pl.col(\"Mode\") != pl.col(\"Mode\").shift()).cum_sum()\n",
    "    )\n",
    "    .group_by(\"group\", maintain_order=True)\n",
    "    .agg([\n",
    "        pl.col(\"Segment_ID\").first(),\n",
    "        pl.col(\"Mode\").first(),\n",
    "        pl.col(\"Text\").str.join(delimiter=\" \"),  # Concatenate text with spaces\n",
    "        pl.col(\"Word_Count\").sum()\n",
    "    ])\n",
    "    .drop(\"group\")\n",
    ")\n"
   ]
  },
  {
   "cell_type": "code",
   "execution_count": 31,
   "id": "ff652b8a",
   "metadata": {},
   "outputs": [
    {
     "data": {
      "text/plain": [
       "(991, 4)"
      ]
     },
     "execution_count": 31,
     "metadata": {},
     "output_type": "execute_result"
    }
   ],
   "source": [
    "df_merged.shape"
   ]
  },
  {
   "cell_type": "code",
   "execution_count": 27,
   "id": "d815199e",
   "metadata": {},
   "outputs": [
    {
     "data": {
      "text/html": [
       "<div><style>\n",
       ".dataframe > thead > tr,\n",
       ".dataframe > tbody > tr {\n",
       "  text-align: right;\n",
       "  white-space: pre-wrap;\n",
       "}\n",
       "</style>\n",
       "<small>shape: (10, 4)</small><table border=\"1\" class=\"dataframe\"><thead><tr><th>Segment_ID</th><th>Mode</th><th>Text</th><th>Word_Count</th></tr><tr><td>i64</td><td>str</td><td>str</td><td>i64</td></tr></thead><tbody><tr><td>0</td><td>&quot;auto&quot;</td><td>&quot;@ / / &#x27;phags pa dpung bzangs k…</td><td>23</td></tr><tr><td>1</td><td>&quot;allo&quot;</td><td>&quot;/ chos dbyings mnyam pa nyid l…</td><td>43</td></tr><tr><td>2</td><td>&quot;auto&quot;</td><td>&quot;/ / de ltar bsdus pa&#x27;i don dan…</td><td>72</td></tr><tr><td>3</td><td>&quot;allo&quot;</td><td>&quot;/ / nyi ma stong gi gzi&quot;</td><td>7</td></tr><tr><td>4</td><td>&quot;auto&quot;</td><td>&quot;zhes bya ba ni sku dang thugs …</td><td>32</td></tr><tr><td>9</td><td>&quot;allo&quot;</td><td>&quot;/ / rtse gcig yid gyur&quot;</td><td>6</td></tr><tr><td>10</td><td>&quot;auto&quot;</td><td>&quot;zhes bya ba ni de bzhin nyid l…</td><td>38</td></tr><tr><td>13</td><td>&quot;allo&quot;</td><td>&quot;dpung bzangs tshul bzhin gus p…</td><td>11</td></tr><tr><td>14</td><td>&quot;auto&quot;</td><td>&quot;zhes bya ba ni shin tu dang ba…</td><td>230</td></tr><tr><td>27</td><td>&quot;allo&quot;</td><td>&quot;smos pa ni sa &#x27;dzin nam rdo rj…</td><td>12</td></tr></tbody></table></div>"
      ],
      "text/plain": [
       "shape: (10, 4)\n",
       "┌────────────┬──────┬─────────────────────────────────┬────────────┐\n",
       "│ Segment_ID ┆ Mode ┆ Text                            ┆ Word_Count │\n",
       "│ ---        ┆ ---  ┆ ---                             ┆ ---        │\n",
       "│ i64        ┆ str  ┆ str                             ┆ i64        │\n",
       "╞════════════╪══════╪═════════════════════════════════╪════════════╡\n",
       "│ 0          ┆ auto ┆ @ / / 'phags pa dpung bzangs k… ┆ 23         │\n",
       "│ 1          ┆ allo ┆ / chos dbyings mnyam pa nyid l… ┆ 43         │\n",
       "│ 2          ┆ auto ┆ / / de ltar bsdus pa'i don dan… ┆ 72         │\n",
       "│ 3          ┆ allo ┆ / / nyi ma stong gi gzi         ┆ 7          │\n",
       "│ 4          ┆ auto ┆ zhes bya ba ni sku dang thugs … ┆ 32         │\n",
       "│ 9          ┆ allo ┆ / / rtse gcig yid gyur          ┆ 6          │\n",
       "│ 10         ┆ auto ┆ zhes bya ba ni de bzhin nyid l… ┆ 38         │\n",
       "│ 13         ┆ allo ┆ dpung bzangs tshul bzhin gus p… ┆ 11         │\n",
       "│ 14         ┆ auto ┆ zhes bya ba ni shin tu dang ba… ┆ 230        │\n",
       "│ 27         ┆ allo ┆ smos pa ni sa 'dzin nam rdo rj… ┆ 12         │\n",
       "└────────────┴──────┴─────────────────────────────────┴────────────┘"
      ]
     },
     "execution_count": 27,
     "metadata": {},
     "output_type": "execute_result"
    }
   ],
   "source": [
    "df_merged.head(10)\n"
   ]
  },
  {
   "cell_type": "code",
   "execution_count": 29,
   "id": "3188bb7a",
   "metadata": {},
   "outputs": [
    {
     "data": {
      "text/plain": [
       "False"
      ]
     },
     "execution_count": 29,
     "metadata": {},
     "output_type": "execute_result"
    }
   ],
   "source": [
    "# check if there are 1s in Word_Count column in df_merged\n",
    "df_merged.filter(pl.col(\"Word_Count\") <= 5).shape[0] > 0"
   ]
  },
  {
   "cell_type": "code",
   "execution_count": 30,
   "id": "b0c2c9d3",
   "metadata": {},
   "outputs": [],
   "source": [
    "df_merged.write_csv(\"D2672_postprocessed_output.csv\")"
   ]
  }
 ],
 "metadata": {
  "kernelspec": {
   "display_name": "adapters",
   "language": "python",
   "name": "python3"
  },
  "language_info": {
   "codemirror_mode": {
    "name": "ipython",
    "version": 3
   },
   "file_extension": ".py",
   "mimetype": "text/x-python",
   "name": "python",
   "nbconvert_exporter": "python",
   "pygments_lexer": "ipython3",
   "version": "3.12.8"
  }
 },
 "nbformat": 4,
 "nbformat_minor": 5
}
