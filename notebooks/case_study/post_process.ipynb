{
 "cells": [
  {
   "cell_type": "code",
   "execution_count": 53,
   "id": "f897b252",
   "metadata": {},
   "outputs": [],
   "source": [
    "import polars as pl"
   ]
  },
  {
   "cell_type": "code",
   "execution_count": 54,
   "id": "84362524",
   "metadata": {},
   "outputs": [],
   "source": [
    "text_name = \"Gpb023.003\""
   ]
  },
  {
   "cell_type": "code",
   "execution_count": 55,
   "id": "42efa68e",
   "metadata": {},
   "outputs": [],
   "source": [
    "# Load D2672_analysis_segments to a df using polars\n",
    "df = pl.read_csv(f\"./Orna/{text_name}_clean_analysis_segments.csv\")"
   ]
  },
  {
   "cell_type": "code",
   "execution_count": 56,
   "id": "aeb09597",
   "metadata": {},
   "outputs": [
    {
     "data": {
      "text/html": [
       "<div><style>\n",
       ".dataframe > thead > tr,\n",
       ".dataframe > tbody > tr {\n",
       "  text-align: right;\n",
       "  white-space: pre-wrap;\n",
       "}\n",
       "</style>\n",
       "<small>shape: (100, 4)</small><table border=\"1\" class=\"dataframe\"><thead><tr><th>Segment_ID</th><th>Mode</th><th>Text</th><th>Word_Count</th></tr><tr><td>i64</td><td>str</td><td>str</td><td>i64</td></tr></thead><tbody><tr><td>0</td><td>&quot;auto&quot;</td><td>&quot;rgya gar skad du/ sarba ta thA…</td><td>860</td></tr><tr><td>1</td><td>&quot;allo&quot;</td><td>&quot;phyug&quot;</td><td>1</td></tr><tr><td>2</td><td>&quot;auto&quot;</td><td>&quot;rgyur&quot;</td><td>1</td></tr><tr><td>3</td><td>&quot;allo&quot;</td><td>&quot;smra&quot;</td><td>1</td></tr><tr><td>4</td><td>&quot;auto&quot;</td><td>&quot;bar &#x27;gyur&quot;</td><td>2</td></tr><tr><td>&hellip;</td><td>&hellip;</td><td>&hellip;</td><td>&hellip;</td></tr><tr><td>95</td><td>&quot;allo&quot;</td><td>&quot;gang&quot;</td><td>1</td></tr><tr><td>96</td><td>&quot;auto&quot;</td><td>&quot;mos&quot;</td><td>1</td></tr><tr><td>97</td><td>&quot;allo&quot;</td><td>&quot;dbang bsgyur nas//&quot;</td><td>3</td></tr><tr><td>98</td><td>&quot;auto&quot;</td><td>&quot;las dbang mi&quot;</td><td>3</td></tr><tr><td>99</td><td>&quot;allo&quot;</td><td>&quot;gtang&quot;</td><td>1</td></tr></tbody></table></div>"
      ],
      "text/plain": [
       "shape: (100, 4)\n",
       "┌────────────┬──────┬─────────────────────────────────┬────────────┐\n",
       "│ Segment_ID ┆ Mode ┆ Text                            ┆ Word_Count │\n",
       "│ ---        ┆ ---  ┆ ---                             ┆ ---        │\n",
       "│ i64        ┆ str  ┆ str                             ┆ i64        │\n",
       "╞════════════╪══════╪═════════════════════════════════╪════════════╡\n",
       "│ 0          ┆ auto ┆ rgya gar skad du/ sarba ta thA… ┆ 860        │\n",
       "│ 1          ┆ allo ┆ phyug                           ┆ 1          │\n",
       "│ 2          ┆ auto ┆ rgyur                           ┆ 1          │\n",
       "│ 3          ┆ allo ┆ smra                            ┆ 1          │\n",
       "│ 4          ┆ auto ┆ bar 'gyur                       ┆ 2          │\n",
       "│ …          ┆ …    ┆ …                               ┆ …          │\n",
       "│ 95         ┆ allo ┆ gang                            ┆ 1          │\n",
       "│ 96         ┆ auto ┆ mos                             ┆ 1          │\n",
       "│ 97         ┆ allo ┆ dbang bsgyur nas//              ┆ 3          │\n",
       "│ 98         ┆ auto ┆ las dbang mi                    ┆ 3          │\n",
       "│ 99         ┆ allo ┆ gtang                           ┆ 1          │\n",
       "└────────────┴──────┴─────────────────────────────────┴────────────┘"
      ]
     },
     "execution_count": 56,
     "metadata": {},
     "output_type": "execute_result"
    }
   ],
   "source": [
    "df.head(100)"
   ]
  },
  {
   "cell_type": "code",
   "execution_count": 57,
   "id": "b97d0d71",
   "metadata": {},
   "outputs": [],
   "source": [
    "import polars as pl\n",
    "\n",
    "# Mask rows with Word_Count=1 as null, then forward fill\n",
    "df = df.with_columns(\n",
    "    pl.when((pl.col(\"Word_Count\") > 1))\n",
    "    .then(pl.col(\"Mode\"))\n",
    "    .otherwise(None)\n",
    "    .forward_fill()\n",
    "    .alias(\"Mode\")\n",
    ")"
   ]
  },
  {
   "cell_type": "code",
   "execution_count": 58,
   "id": "1beaddcb",
   "metadata": {},
   "outputs": [
    {
     "data": {
      "text/html": [
       "<div><style>\n",
       ".dataframe > thead > tr,\n",
       ".dataframe > tbody > tr {\n",
       "  text-align: right;\n",
       "  white-space: pre-wrap;\n",
       "}\n",
       "</style>\n",
       "<small>shape: (10, 4)</small><table border=\"1\" class=\"dataframe\"><thead><tr><th>Segment_ID</th><th>Mode</th><th>Text</th><th>Word_Count</th></tr><tr><td>i64</td><td>str</td><td>str</td><td>i64</td></tr></thead><tbody><tr><td>5</td><td>&quot;allo&quot;</td><td>&quot;ro// &#x27;thad pa bsgrub pa&#x27;i rigs…</td><td>10</td></tr><tr><td>6</td><td>&quot;auto&quot;</td><td>&quot;rigs pa gnas skabs thams cad d…</td><td>23</td></tr><tr><td>7</td><td>&quot;auto&quot;</td><td>&quot;rnams&quot;</td><td>1</td></tr><tr><td>8</td><td>&quot;auto&quot;</td><td>&quot;gzhi&#x27;i&quot;</td><td>1</td></tr><tr><td>9</td><td>&quot;auto&quot;</td><td>&quot;sgrub&quot;</td><td>1</td></tr><tr><td>10</td><td>&quot;auto&quot;</td><td>&quot;byed la&quot;</td><td>2</td></tr><tr><td>11</td><td>&quot;auto&quot;</td><td>&quot;gzigs&quot;</td><td>1</td></tr><tr><td>12</td><td>&quot;auto&quot;</td><td>&quot;so//&quot;</td><td>1</td></tr><tr><td>13</td><td>&quot;auto&quot;</td><td>&quot;dngos&quot;</td><td>1</td></tr><tr><td>14</td><td>&quot;auto&quot;</td><td>&quot;por smra ba rnams dngos por bs…</td><td>15</td></tr></tbody></table></div>"
      ],
      "text/plain": [
       "shape: (10, 4)\n",
       "┌────────────┬──────┬─────────────────────────────────┬────────────┐\n",
       "│ Segment_ID ┆ Mode ┆ Text                            ┆ Word_Count │\n",
       "│ ---        ┆ ---  ┆ ---                             ┆ ---        │\n",
       "│ i64        ┆ str  ┆ str                             ┆ i64        │\n",
       "╞════════════╪══════╪═════════════════════════════════╪════════════╡\n",
       "│ 5          ┆ allo ┆ ro// 'thad pa bsgrub pa'i rigs… ┆ 10         │\n",
       "│ 6          ┆ auto ┆ rigs pa gnas skabs thams cad d… ┆ 23         │\n",
       "│ 7          ┆ auto ┆ rnams                           ┆ 1          │\n",
       "│ 8          ┆ auto ┆ gzhi'i                          ┆ 1          │\n",
       "│ 9          ┆ auto ┆ sgrub                           ┆ 1          │\n",
       "│ 10         ┆ auto ┆ byed la                         ┆ 2          │\n",
       "│ 11         ┆ auto ┆ gzigs                           ┆ 1          │\n",
       "│ 12         ┆ auto ┆ so//                            ┆ 1          │\n",
       "│ 13         ┆ auto ┆ dngos                           ┆ 1          │\n",
       "│ 14         ┆ auto ┆ por smra ba rnams dngos por bs… ┆ 15         │\n",
       "└────────────┴──────┴─────────────────────────────────┴────────────┘"
      ]
     },
     "execution_count": 58,
     "metadata": {},
     "output_type": "execute_result"
    }
   ],
   "source": [
    "df.slice(5,10)"
   ]
  },
  {
   "cell_type": "code",
   "execution_count": 59,
   "id": "62dada1a",
   "metadata": {},
   "outputs": [
    {
     "data": {
      "text/plain": [
       "(2489, 4)"
      ]
     },
     "execution_count": 59,
     "metadata": {},
     "output_type": "execute_result"
    }
   ],
   "source": [
    "df.shape"
   ]
  },
  {
   "cell_type": "code",
   "execution_count": 60,
   "id": "313595c4",
   "metadata": {},
   "outputs": [],
   "source": [
    "# Merge consecutive rows with the same Mode\n",
    "df_merged = (\n",
    "    df\n",
    "    .with_columns(\n",
    "        # Create group ID that changes when Mode changes\n",
    "        group=(pl.col(\"Mode\") != pl.col(\"Mode\").shift()).cum_sum()\n",
    "    )\n",
    "    .group_by(\"group\", maintain_order=True)\n",
    "    .agg([\n",
    "        pl.col(\"Segment_ID\").first(),\n",
    "        pl.col(\"Mode\").first(),\n",
    "        pl.col(\"Text\").str.join(delimiter=\" \"),  # Concatenate text with spaces\n",
    "        pl.col(\"Word_Count\").sum()\n",
    "    ])\n",
    "    .drop(\"group\")\n",
    ")\n"
   ]
  },
  {
   "cell_type": "code",
   "execution_count": 61,
   "id": "ff652b8a",
   "metadata": {},
   "outputs": [
    {
     "data": {
      "text/plain": [
       "(1010, 4)"
      ]
     },
     "execution_count": 61,
     "metadata": {},
     "output_type": "execute_result"
    }
   ],
   "source": [
    "df_merged.shape"
   ]
  },
  {
   "cell_type": "code",
   "execution_count": 62,
   "id": "d815199e",
   "metadata": {},
   "outputs": [
    {
     "data": {
      "text/html": [
       "<div><style>\n",
       ".dataframe > thead > tr,\n",
       ".dataframe > tbody > tr {\n",
       "  text-align: right;\n",
       "  white-space: pre-wrap;\n",
       "}\n",
       "</style>\n",
       "<small>shape: (10, 4)</small><table border=\"1\" class=\"dataframe\"><thead><tr><th>Segment_ID</th><th>Mode</th><th>Text</th><th>Word_Count</th></tr><tr><td>i64</td><td>str</td><td>str</td><td>i64</td></tr></thead><tbody><tr><td>0</td><td>&quot;auto&quot;</td><td>&quot;rgya gar skad du/ sarba ta thA…</td><td>860</td></tr><tr><td>1</td><td>&quot;auto&quot;</td><td>&quot;phyug rgyur smra bar &#x27;gyur&quot;</td><td>5</td></tr><tr><td>5</td><td>&quot;allo&quot;</td><td>&quot;ro// &#x27;thad pa bsgrub pa&#x27;i rigs…</td><td>10</td></tr><tr><td>6</td><td>&quot;auto&quot;</td><td>&quot;rigs pa gnas skabs thams cad d…</td><td>46</td></tr><tr><td>15</td><td>&quot;allo&quot;</td><td>&quot;bsgrub ste// &#x27;du shes kyi byad…</td><td>7</td></tr><tr><td>16</td><td>&quot;auto&quot;</td><td>&quot;du byas pa&#x27;i blos dmigs pa dan…</td><td>10</td></tr><tr><td>17</td><td>&quot;allo&quot;</td><td>&quot;par du byas pa&#x27;i blo la snang …</td><td>22</td></tr><tr><td>20</td><td>&quot;auto&quot;</td><td>&quot;pa&#x27;o// de yang so sor rtogs pa…</td><td>275</td></tr><tr><td>21</td><td>&quot;allo&quot;</td><td>&quot;lam kun spyod pas// &#x27;khor ba &#x27;…</td><td>64</td></tr><tr><td>28</td><td>&quot;auto&quot;</td><td>&quot;pa dang// lha yi&quot;</td><td>4</td></tr></tbody></table></div>"
      ],
      "text/plain": [
       "shape: (10, 4)\n",
       "┌────────────┬──────┬─────────────────────────────────┬────────────┐\n",
       "│ Segment_ID ┆ Mode ┆ Text                            ┆ Word_Count │\n",
       "│ ---        ┆ ---  ┆ ---                             ┆ ---        │\n",
       "│ i64        ┆ str  ┆ str                             ┆ i64        │\n",
       "╞════════════╪══════╪═════════════════════════════════╪════════════╡\n",
       "│ 0          ┆ auto ┆ rgya gar skad du/ sarba ta thA… ┆ 860        │\n",
       "│ 1          ┆ auto ┆ phyug rgyur smra bar 'gyur      ┆ 5          │\n",
       "│ 5          ┆ allo ┆ ro// 'thad pa bsgrub pa'i rigs… ┆ 10         │\n",
       "│ 6          ┆ auto ┆ rigs pa gnas skabs thams cad d… ┆ 46         │\n",
       "│ 15         ┆ allo ┆ bsgrub ste// 'du shes kyi byad… ┆ 7          │\n",
       "│ 16         ┆ auto ┆ du byas pa'i blos dmigs pa dan… ┆ 10         │\n",
       "│ 17         ┆ allo ┆ par du byas pa'i blo la snang … ┆ 22         │\n",
       "│ 20         ┆ auto ┆ pa'o// de yang so sor rtogs pa… ┆ 275        │\n",
       "│ 21         ┆ allo ┆ lam kun spyod pas// 'khor ba '… ┆ 64         │\n",
       "│ 28         ┆ auto ┆ pa dang// lha yi                ┆ 4          │\n",
       "└────────────┴──────┴─────────────────────────────────┴────────────┘"
      ]
     },
     "execution_count": 62,
     "metadata": {},
     "output_type": "execute_result"
    }
   ],
   "source": [
    "df_merged.head(10)\n"
   ]
  },
  {
   "cell_type": "code",
   "execution_count": 63,
   "id": "3188bb7a",
   "metadata": {},
   "outputs": [
    {
     "data": {
      "text/plain": [
       "False"
      ]
     },
     "execution_count": 63,
     "metadata": {},
     "output_type": "execute_result"
    }
   ],
   "source": [
    "# check if there are 1s in Word_Count column in df_merged\n",
    "df_merged.filter(pl.col(\"Word_Count\") == 0).shape[0] > 0"
   ]
  },
  {
   "cell_type": "code",
   "execution_count": 64,
   "id": "b0c2c9d3",
   "metadata": {},
   "outputs": [],
   "source": [
    "# df_merged.write_csv(f\"{text_name}_postprocessed_output.csv\")"
   ]
  },
  {
   "cell_type": "code",
   "execution_count": null,
   "id": "63021aca",
   "metadata": {},
   "outputs": [],
   "source": []
  },
  {
   "cell_type": "code",
   "execution_count": null,
   "id": "13a9f64f",
   "metadata": {},
   "outputs": [],
   "source": []
  }
 ],
 "metadata": {
  "kernelspec": {
   "display_name": "adapters",
   "language": "python",
   "name": "python3"
  },
  "language_info": {
   "codemirror_mode": {
    "name": "ipython",
    "version": 3
   },
   "file_extension": ".py",
   "mimetype": "text/x-python",
   "name": "python",
   "nbconvert_exporter": "python",
   "pygments_lexer": "ipython3",
   "version": "3.12.8"
  }
 },
 "nbformat": 4,
 "nbformat_minor": 5
}
