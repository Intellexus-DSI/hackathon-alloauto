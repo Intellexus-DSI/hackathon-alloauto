{
 "cells": [
  {
   "cell_type": "code",
   "execution_count": null,
   "id": "2f367e76",
   "metadata": {},
   "outputs": [],
   "source": []
  },
  {
   "cell_type": "code",
   "execution_count": 12,
   "id": "8e805a21",
   "metadata": {},
   "outputs": [],
   "source": [
    "true_labels = [0,0,0,0,0,0,1,1,1,1,1,1,0,0,0,0,0]\n",
    "pred_labels = [0,0,0,0,0,0,0,0,0,0,0,1,1,1,1,1,1]"
   ]
  },
  {
   "cell_type": "code",
   "execution_count": 13,
   "id": "9a230b2f",
   "metadata": {},
   "outputs": [],
   "source": [
    "def find_change_points(arr):\n",
    "    change_points = []\n",
    "    for i in range(1, len(arr)):\n",
    "        if arr[i] != arr[i - 1]:\n",
    "            change_points.append(i)\n",
    "    return change_points\n",
    "\n",
    "def calc_tp_fp_fn_tn(true_labels, pred_labels, tolerance=2):\n",
    "    true_change_points = find_change_points(true_labels)\n",
    "    pred_change_points = find_change_points(pred_labels)\n",
    "\n",
    "    tp = 0\n",
    "    fp = 0\n",
    "    matched = set()\n",
    "\n",
    "    for p in pred_change_points:\n",
    "        match_found = False\n",
    "        for t in true_change_points:\n",
    "            if abs(p - t) <= tolerance and t not in matched:\n",
    "                tp += 1\n",
    "                matched.add(t)\n",
    "                match_found = True\n",
    "                break\n",
    "        if not match_found:\n",
    "            fp += 1\n",
    "\n",
    "    fn = len(true_change_points) - len(matched)\n",
    "\n",
    "    # total possible positions to classify\n",
    "    total = len(true_labels)\n",
    "\n",
    "    # TN = everything else not counted as TP, FP, FN\n",
    "    tn = total - (tp + fp + fn)\n",
    "\n",
    "    return tp, fp, fn, tn\n",
    "\n",
    "def calc_precision_recall(tp, fp, fn, tn):\n",
    "    # Precision = TP / (TP + FP)\n",
    "    precision = tp / (tp + fp) if (tp + fp) > 0 else 0.0\n",
    "    \n",
    "    # Recall = TP / (TP + FN)\n",
    "    recall = tp / (tp + fn) if (tp + fn) > 0 else 0.0\n",
    "    \n",
    "    return precision, recall\n",
    "\n"
   ]
  },
  {
   "cell_type": "code",
   "execution_count": 14,
   "id": "8376326f",
   "metadata": {},
   "outputs": [
    {
     "data": {
      "text/plain": [
       "[6, 12]"
      ]
     },
     "execution_count": 14,
     "metadata": {},
     "output_type": "execute_result"
    }
   ],
   "source": [
    "find_change_points(true_labels)"
   ]
  },
  {
   "cell_type": "code",
   "execution_count": 15,
   "id": "a08ede21",
   "metadata": {},
   "outputs": [
    {
     "data": {
      "text/plain": [
       "[11]"
      ]
     },
     "execution_count": 15,
     "metadata": {},
     "output_type": "execute_result"
    }
   ],
   "source": [
    "find_change_points(pred_labels)"
   ]
  },
  {
   "cell_type": "code",
   "execution_count": 16,
   "id": "5435c468",
   "metadata": {},
   "outputs": [
    {
     "name": "stdout",
     "output_type": "stream",
     "text": [
      "TP: 1, FP: 0, FN: 1, TN: 15\n"
     ]
    }
   ],
   "source": [
    "tp, fp, fn, tn = calc_tp_fp_fn_tn(true_labels, pred_labels, tolerance=2)\n",
    "print(f\"TP: {tp}, FP: {fp}, FN: {fn}, TN: {tn}\")"
   ]
  },
  {
   "cell_type": "code",
   "execution_count": 17,
   "id": "2ca3f36c",
   "metadata": {},
   "outputs": [
    {
     "name": "stdout",
     "output_type": "stream",
     "text": [
      "Precision: 1.00, Recall: 0.50\n"
     ]
    }
   ],
   "source": [
    "precision, recall = calc_precision_recall(tp, fp, fn, tn)\n",
    "print(f\"Precision: {precision:.2f}, Recall: {recall:.2f}\")"
   ]
  },
  {
   "cell_type": "code",
   "execution_count": null,
   "id": "4ebec5e2",
   "metadata": {},
   "outputs": [],
   "source": []
  },
  {
   "cell_type": "code",
   "execution_count": null,
   "id": "89d8d30f",
   "metadata": {},
   "outputs": [],
   "source": []
  },
  {
   "cell_type": "markdown",
   "id": "6353c8ad",
   "metadata": {},
   "source": [
    "### Calculate the tokizer compression"
   ]
  },
  {
   "cell_type": "code",
   "execution_count": 1,
   "id": "79997c06",
   "metadata": {},
   "outputs": [],
   "source": [
    "from transformers import AutoTokenizer"
   ]
  },
  {
   "cell_type": "code",
   "execution_count": 2,
   "id": "7876c0e7",
   "metadata": {},
   "outputs": [],
   "source": [
    "mbert_tokenizer_name = \"google-bert/bert-base-multilingual-cased\"\n",
    "cpt_mbert_tokenizer_name = \"OMRIDRORI/mbert-tibetan-continual-wylie-final\""
   ]
  },
  {
   "cell_type": "code",
   "execution_count": 4,
   "id": "8a34ee37",
   "metadata": {},
   "outputs": [],
   "source": [
    "text_path = \"../dataset/tokenizer/tibetan_bert_ready_512.txt\"\n",
    "with open(text_path, \"r\", encoding=\"utf-8\") as f:\n",
    "    text = f.read()"
   ]
  },
  {
   "cell_type": "code",
   "execution_count": 3,
   "id": "d161e998",
   "metadata": {},
   "outputs": [
    {
     "data": {
      "application/vnd.jupyter.widget-view+json": {
       "model_id": "cbe256f31e5e471c9965d9e424179011",
       "version_major": 2,
       "version_minor": 0
      },
      "text/plain": [
       "tokenizer_config.json:   0%|          | 0.00/49.0 [00:00<?, ?B/s]"
      ]
     },
     "metadata": {},
     "output_type": "display_data"
    },
    {
     "data": {
      "application/vnd.jupyter.widget-view+json": {
       "model_id": "dbc4b0ec17e84466aa0976a8625f5a83",
       "version_major": 2,
       "version_minor": 0
      },
      "text/plain": [
       "config.json:   0%|          | 0.00/625 [00:00<?, ?B/s]"
      ]
     },
     "metadata": {},
     "output_type": "display_data"
    },
    {
     "data": {
      "application/vnd.jupyter.widget-view+json": {
       "model_id": "4797b2dddad4448ca69e240f42f16c15",
       "version_major": 2,
       "version_minor": 0
      },
      "text/plain": [
       "vocab.txt: 0.00B [00:00, ?B/s]"
      ]
     },
     "metadata": {},
     "output_type": "display_data"
    },
    {
     "data": {
      "application/vnd.jupyter.widget-view+json": {
       "model_id": "a697394b851642aab33966c0f9f8ff55",
       "version_major": 2,
       "version_minor": 0
      },
      "text/plain": [
       "tokenizer.json: 0.00B [00:00, ?B/s]"
      ]
     },
     "metadata": {},
     "output_type": "display_data"
    },
    {
     "name": "stderr",
     "output_type": "stream",
     "text": [
      "/opt/anaconda3/envs/guyb_env2/lib/python3.11/site-packages/transformers/tokenization_utils_base.py:1601: FutureWarning: `clean_up_tokenization_spaces` was not set. It will be set to `True` by default. This behavior will be depracted in transformers v4.45, and will be then set to `False` by default. For more details check this issue: https://github.com/huggingface/transformers/issues/31884\n",
      "  warnings.warn(\n"
     ]
    },
    {
     "data": {
      "application/vnd.jupyter.widget-view+json": {
       "model_id": "49d31949d7494a40bb22d2cdb9d77ef4",
       "version_major": 2,
       "version_minor": 0
      },
      "text/plain": [
       "tokenizer_config.json:   0%|          | 0.00/1.37k [00:00<?, ?B/s]"
      ]
     },
     "metadata": {},
     "output_type": "display_data"
    },
    {
     "data": {
      "application/vnd.jupyter.widget-view+json": {
       "model_id": "853c6dcc7fe34dd5b8737f200f9d3766",
       "version_major": 2,
       "version_minor": 0
      },
      "text/plain": [
       "vocab.txt:   0%|          | 0.00/170k [00:00<?, ?B/s]"
      ]
     },
     "metadata": {},
     "output_type": "display_data"
    },
    {
     "data": {
      "application/vnd.jupyter.widget-view+json": {
       "model_id": "289f6f901ccd4860b50861d0e180b215",
       "version_major": 2,
       "version_minor": 0
      },
      "text/plain": [
       "tokenizer.json:   0%|          | 0.00/642k [00:00<?, ?B/s]"
      ]
     },
     "metadata": {},
     "output_type": "display_data"
    },
    {
     "data": {
      "application/vnd.jupyter.widget-view+json": {
       "model_id": "396c8e489ae44a5f865489fc7810adbf",
       "version_major": 2,
       "version_minor": 0
      },
      "text/plain": [
       "special_tokens_map.json:   0%|          | 0.00/132 [00:00<?, ?B/s]"
      ]
     },
     "metadata": {},
     "output_type": "display_data"
    }
   ],
   "source": [
    "mbert_tokenizer = AutoTokenizer.from_pretrained(mbert_tokenizer_name)\n",
    "cpt_mbert_tokenizer = AutoTokenizer.from_pretrained(cpt_mbert_tokenizer_name)"
   ]
  },
  {
   "cell_type": "code",
   "execution_count": 5,
   "id": "25129f18",
   "metadata": {},
   "outputs": [
    {
     "ename": "",
     "evalue": "",
     "output_type": "error",
     "traceback": [
      "\u001b[1;31mThe Kernel crashed while executing code in the current cell or a previous cell. \n",
      "\u001b[1;31mPlease review the code in the cell(s) to identify a possible cause of the failure. \n",
      "\u001b[1;31mClick <a href='https://aka.ms/vscodeJupyterKernelCrash'>here</a> for more info. \n",
      "\u001b[1;31mView Jupyter <a href='command:jupyter.viewOutput'>log</a> for further details."
     ]
    }
   ],
   "source": [
    "mBERT_tokens = mbert_tokenizer.encode(text)\n",
    "cpt_mBERT_tokens = cpt_mbert_tokenizer.encode(text)"
   ]
  },
  {
   "cell_type": "code",
   "execution_count": null,
   "id": "74532e66",
   "metadata": {},
   "outputs": [],
   "source": [
    "n_tokens_mBERT = len(mBERT_tokens)\n",
    "n_tokens_cpt_mBERT = len(cpt_mBERT_tokens)\n",
    "n_words = len(text.split())"
   ]
  },
  {
   "cell_type": "code",
   "execution_count": null,
   "id": "dc98a2b4",
   "metadata": {},
   "outputs": [],
   "source": [
    "# Compression\n",
    "\n",
    "mBERT_compression = (n_words / n_tokens_mBERT) if n_tokens_mBERT else float(\"nan\")\n",
    "cpt_mBERT_compression = (n_words / n_tokens_cpt_mBERT) if n_tokens_cpt_mBERT else float(\"nan\")\n",
    "\n",
    "\n",
    "print(f\"mBERT Tokens: {n_tokens_mBERT}\")\n",
    "print(f\"cpt-mBERT Tokens: {n_tokens_cpt_mBERT}\")\n",
    "print(f\"Words: {n_words}\")\n",
    "print(f\"Compression chars/token: {mBERT_compression:.6f}\")\n",
    "print(f\"Compression words/token: {cpt_mBERT_compression:.6f}\")\n"
   ]
  },
  {
   "cell_type": "code",
   "execution_count": null,
   "id": "d9fdad55",
   "metadata": {},
   "outputs": [],
   "source": [
    "# Fertility\n",
    "\n",
    "mBERT_fertility = (n_tokens_mBERT / n_words) if n_words else float(\"nan\")\n",
    "cpt_mBERT_fertility = (n_tokens_cpt_mBERT / n_words) if n_words else float(\"nan\")\n",
    "\n",
    "print(f\"mBERT Fertility tokens/char: {mBERT_fertility:.6f}\")\n",
    "print(f\"cpt-mBERT Fertility tokens/char: {cpt_mBERT_fertility:.6f}\")\n"
   ]
  }
 ],
 "metadata": {
  "kernelspec": {
   "display_name": "guyb_env2",
   "language": "python",
   "name": "python3"
  },
  "language_info": {
   "codemirror_mode": {
    "name": "ipython",
    "version": 3
   },
   "file_extension": ".py",
   "mimetype": "text/x-python",
   "name": "python",
   "nbconvert_exporter": "python",
   "pygments_lexer": "ipython3",
   "version": "3.11.8"
  }
 },
 "nbformat": 4,
 "nbformat_minor": 5
}
