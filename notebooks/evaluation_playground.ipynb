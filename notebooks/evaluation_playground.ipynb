{
 "cells": [
  {
   "cell_type": "code",
   "execution_count": null,
   "id": "2f367e76",
   "metadata": {},
   "outputs": [],
   "source": []
  },
  {
   "cell_type": "code",
   "execution_count": 12,
   "id": "8e805a21",
   "metadata": {},
   "outputs": [],
   "source": [
    "true_labels = [0,0,0,0,0,0,1,1,1,1,1,1,0,0,0,0,0]\n",
    "pred_labels = [0,0,0,0,0,0,0,0,0,0,0,1,1,1,1,1,1]"
   ]
  },
  {
   "cell_type": "code",
   "execution_count": 13,
   "id": "9a230b2f",
   "metadata": {},
   "outputs": [],
   "source": [
    "def find_change_points(arr):\n",
    "    change_points = []\n",
    "    for i in range(1, len(arr)):\n",
    "        if arr[i] != arr[i - 1]:\n",
    "            change_points.append(i)\n",
    "    return change_points\n",
    "\n",
    "def calc_tp_fp_fn_tn(true_labels, pred_labels, tolerance=2):\n",
    "    true_change_points = find_change_points(true_labels)\n",
    "    pred_change_points = find_change_points(pred_labels)\n",
    "\n",
    "    tp = 0\n",
    "    fp = 0\n",
    "    matched = set()\n",
    "\n",
    "    for p in pred_change_points:\n",
    "        match_found = False\n",
    "        for t in true_change_points:\n",
    "            if abs(p - t) <= tolerance and t not in matched:\n",
    "                tp += 1\n",
    "                matched.add(t)\n",
    "                match_found = True\n",
    "                break\n",
    "        if not match_found:\n",
    "            fp += 1\n",
    "\n",
    "    fn = len(true_change_points) - len(matched)\n",
    "\n",
    "    # total possible positions to classify\n",
    "    total = len(true_labels)\n",
    "\n",
    "    # TN = everything else not counted as TP, FP, FN\n",
    "    tn = total - (tp + fp + fn)\n",
    "\n",
    "    return tp, fp, fn, tn\n",
    "\n",
    "def calc_precision_recall(tp, fp, fn, tn):\n",
    "    # Precision = TP / (TP + FP)\n",
    "    precision = tp / (tp + fp) if (tp + fp) > 0 else 0.0\n",
    "    \n",
    "    # Recall = TP / (TP + FN)\n",
    "    recall = tp / (tp + fn) if (tp + fn) > 0 else 0.0\n",
    "    \n",
    "    return precision, recall\n",
    "\n"
   ]
  },
  {
   "cell_type": "code",
   "execution_count": 14,
   "id": "8376326f",
   "metadata": {},
   "outputs": [
    {
     "data": {
      "text/plain": [
       "[6, 12]"
      ]
     },
     "execution_count": 14,
     "metadata": {},
     "output_type": "execute_result"
    }
   ],
   "source": [
    "find_change_points(true_labels)"
   ]
  },
  {
   "cell_type": "code",
   "execution_count": 15,
   "id": "a08ede21",
   "metadata": {},
   "outputs": [
    {
     "data": {
      "text/plain": [
       "[11]"
      ]
     },
     "execution_count": 15,
     "metadata": {},
     "output_type": "execute_result"
    }
   ],
   "source": [
    "find_change_points(pred_labels)"
   ]
  },
  {
   "cell_type": "code",
   "execution_count": 16,
   "id": "5435c468",
   "metadata": {},
   "outputs": [
    {
     "name": "stdout",
     "output_type": "stream",
     "text": [
      "TP: 1, FP: 0, FN: 1, TN: 15\n"
     ]
    }
   ],
   "source": [
    "tp, fp, fn, tn = calc_tp_fp_fn_tn(true_labels, pred_labels, tolerance=2)\n",
    "print(f\"TP: {tp}, FP: {fp}, FN: {fn}, TN: {tn}\")"
   ]
  },
  {
   "cell_type": "code",
   "execution_count": 17,
   "id": "2ca3f36c",
   "metadata": {},
   "outputs": [
    {
     "name": "stdout",
     "output_type": "stream",
     "text": [
      "Precision: 1.00, Recall: 0.50\n"
     ]
    }
   ],
   "source": [
    "precision, recall = calc_precision_recall(tp, fp, fn, tn)\n",
    "print(f\"Precision: {precision:.2f}, Recall: {recall:.2f}\")"
   ]
  },
  {
   "cell_type": "code",
   "execution_count": null,
   "id": "4ebec5e2",
   "metadata": {},
   "outputs": [],
   "source": []
  },
  {
   "cell_type": "code",
   "execution_count": null,
   "id": "89d8d30f",
   "metadata": {},
   "outputs": [],
   "source": []
  },
  {
   "cell_type": "markdown",
   "id": "6353c8ad",
   "metadata": {},
   "source": [
    "### Calculate the tokizer compression"
   ]
  },
  {
   "cell_type": "code",
   "execution_count": 1,
   "id": "79997c06",
   "metadata": {},
   "outputs": [],
   "source": [
    "from transformers import AutoTokenizer"
   ]
  },
  {
   "cell_type": "code",
   "execution_count": 2,
   "id": "7876c0e7",
   "metadata": {},
   "outputs": [],
   "source": [
    "mbert_tokenizer_name = \"google-bert/bert-base-multilingual-cased\"\n",
    "cpt_mbert_tokenizer_name = \"OMRIDRORI/mbert-tibetan-continual-wylie-final\""
   ]
  },
  {
   "cell_type": "code",
   "execution_count": null,
   "id": "8a34ee37",
   "metadata": {},
   "outputs": [],
   "source": [
    "text_path = \"../dataset/tokenizer/tibetan_bert_ready_512.txt\"\n",
    "with open(text_path, \"r\", encoding=\"utf-8\") as f:\n",
    "    text = f.read()"
   ]
  },
  {
   "cell_type": "code",
   "execution_count": null,
   "id": "d161e998",
   "metadata": {},
   "outputs": [],
   "source": [
    "mbert_tokenizer = AutoTokenizer.from_pretrained(mbert_tokenizer_name)\n",
    "cpt_mbert_tokenizer = AutoTokenizer.from_pretrained(cpt_mbert_tokenizer_name)"
   ]
  },
  {
   "cell_type": "code",
   "execution_count": null,
   "id": "25129f18",
   "metadata": {},
   "outputs": [],
   "source": [
    "mBERT_tokens = mbert_tokenizer.encode(text)\n",
    "cpt_mBERT_tokens = cpt_mbert_tokenizer.encode(text)"
   ]
  },
  {
   "cell_type": "code",
   "execution_count": null,
   "id": "dc98a2b4",
   "metadata": {},
   "outputs": [],
   "source": [
    "chars = len(text)\n",
    "comp1 = chars / len(tokens1)\n",
    "comp2 = chars / len(tokens2)\n",
    "\n",
    "print(f\"Text length: {chars} characters\\n\")\n",
    "print(f\"{mbert_tokenizer_name}: {len(mBERT_tokens)} tokens, compression = {comp1:.2f} chars/token\")\n",
    "print(f\"{cpt_mbert_tokenizer_name}: {len(cpt_mBERT_tokens)} tokens, compression = {comp2:.2f} chars/token\")"
   ]
  },
  {
   "cell_type": "code",
   "execution_count": null,
   "id": "d9fdad55",
   "metadata": {},
   "outputs": [],
   "source": [
    "\n",
    "def compare_tokenizers(text: str, tok1_name: str, tok2_name: str):\n",
    "    # Load tokenizers\n",
    "    \n",
    "\n",
    "    # Tokenize\n",
    "    tokens1 = tok1.encode(text)\n",
    "    tokens2 = tok2.encode(text)\n",
    "\n",
    "    # Compute compression (chars per token and tokens per char)\n",
    "    chars = len(text)\n",
    "    comp1 = chars / len(tokens1)  # average chars represented per token\n",
    "    comp2 = chars / len(tokens2)\n",
    "\n",
    "    print(f\"Text length: {chars} characters\\n\")\n",
    "    print(f\"{tok1_name}: {len(tokens1)} tokens, compression = {comp1:.2f} chars/token\")\n",
    "    print(f\"{tok2_name}: {len(tokens2)} tokens, compression = {comp2:.2f} chars/token\")\n",
    "\n",
    "# Example\n",
    "text = \"བོད་ཡིག་ནི་སློབ་གསོ་དང་གཞུང་ལས་སྒྲིག་བཀོད་ལ་སྤྱོད་མཁན་གྱིས་མང་པོ་ཡོད།\"\n",
    "compare_tokenizers(text, \"bert-base-multilingual-cased\", \"meta-llama/Llama-3.2-3B\")\n"
   ]
  }
 ],
 "metadata": {
  "kernelspec": {
   "display_name": "adapters",
   "language": "python",
   "name": "python3"
  },
  "language_info": {
   "codemirror_mode": {
    "name": "ipython",
    "version": 3
   },
   "file_extension": ".py",
   "mimetype": "text/x-python",
   "name": "python",
   "nbconvert_exporter": "python",
   "pygments_lexer": "ipython3",
   "version": "3.12.8"
  }
 },
 "nbformat": 4,
 "nbformat_minor": 5
}
